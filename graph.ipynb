{
 "cells": [
  {
   "cell_type": "code",
   "execution_count": 49,
   "metadata": {},
   "outputs": [],
   "source": [
    "import pandas as pd\n",
    "import plotly.graph_objects as go\n",
    "import plotly.io as pio\n",
    "from plotly.subplots import make_subplots\n",
    "\n",
    "pio.templates.default = \"gridon\""
   ]
  },
  {
   "cell_type": "code",
   "execution_count": 50,
   "metadata": {},
   "outputs": [],
   "source": [
    "df_table = pd.read_csv('data/table.csv')\n",
    "df_repair = pd.read_csv('data/repair_cumsum.csv')\n",
    "df_stock = pd.read_csv('data/stock.csv')"
   ]
  },
  {
   "cell_type": "code",
   "execution_count": 51,
   "metadata": {},
   "outputs": [],
   "source": [
    "num_plot = len(df_table)\n",
    "fig = make_subplots(\n",
    "    rows=num_plot, cols=1\n",
    ")"
   ]
  },
  {
   "cell_type": "code",
   "execution_count": 52,
   "metadata": {},
   "outputs": [
    {
     "name": "stdout",
     "output_type": "stream",
     "text": [
      "a 12\n",
      "b 13\n",
      "c 15\n",
      "c 17\n"
     ]
    },
    {
     "data": {
      "application/vnd.plotly.v1+json": {
       "config": {
        "plotlyServerURL": "https://plot.ly"
       },
       "data": [
        {
         "name": "repair_comsum",
         "type": "bar",
         "x": [
          "2023/8/30",
          "2023/8/31",
          "2023/9/1",
          "2023/9/2",
          "2023/9/3",
          "2023/9/4",
          "2023/9/5"
         ],
         "xaxis": "x",
         "y": [
          3,
          4,
          5,
          5,
          6,
          6,
          7
         ],
         "yaxis": "y"
        },
        {
         "name": "stock",
         "type": "scatter",
         "x": [
          "2023/8/30",
          "2023/8/31",
          "2023/9/1",
          "2023/9/2",
          "2023/9/3",
          "2023/9/4",
          "2023/9/5"
         ],
         "xaxis": "x",
         "y": [
          100,
          100,
          100,
          100,
          70,
          70,
          70
         ],
         "yaxis": "y"
        },
        {
         "name": "repair_comsum",
         "type": "bar",
         "x": [
          "2023/9/2",
          "2023/9/3",
          "2023/9/4",
          "2023/9/5"
         ],
         "xaxis": "x2",
         "y": [
          2,
          3,
          3,
          4
         ],
         "yaxis": "y2"
        },
        {
         "name": "stock",
         "type": "scatter",
         "x": [
          "2023/9/2",
          "2023/9/3",
          "2023/9/4",
          "2023/9/5"
         ],
         "xaxis": "x2",
         "y": [
          60,
          50,
          40,
          40
         ],
         "yaxis": "y2"
        },
        {
         "name": "repair_comsum",
         "type": "bar",
         "x": [
          "2023/8/30",
          "2023/8/31"
         ],
         "xaxis": "x3",
         "y": [
          10,
          12
         ],
         "yaxis": "y3"
        },
        {
         "name": "stock",
         "type": "scatter",
         "x": [
          "2023/8/30",
          "2023/8/31"
         ],
         "xaxis": "x3",
         "y": [
          100,
          78
         ],
         "yaxis": "y3"
        },
        {
         "name": "repair_comsum",
         "type": "bar",
         "x": [],
         "xaxis": "x4",
         "y": [],
         "yaxis": "y4"
        },
        {
         "name": "stock",
         "type": "scatter",
         "x": [],
         "xaxis": "x4",
         "y": [],
         "yaxis": "y4"
        }
       ],
       "layout": {
        "height": 800,
        "hovermode": "x unified",
        "template": {
         "data": {
          "pie": [
           {
            "automargin": true,
            "type": "pie"
           }
          ]
         },
         "layout": {
          "xaxis": {
           "showgrid": true,
           "title": {
            "standoff": 15
           }
          },
          "yaxis": {
           "showgrid": true,
           "title": {
            "standoff": 15
           }
          }
         }
        },
        "xaxis": {
         "anchor": "y",
         "domain": [
          0,
          1
         ]
        },
        "xaxis2": {
         "anchor": "y2",
         "domain": [
          0,
          1
         ]
        },
        "xaxis3": {
         "anchor": "y3",
         "domain": [
          0,
          1
         ]
        },
        "xaxis4": {
         "anchor": "y4",
         "domain": [
          0,
          1
         ]
        },
        "yaxis": {
         "anchor": "x",
         "domain": [
          0.80625,
          1
         ]
        },
        "yaxis2": {
         "anchor": "x2",
         "domain": [
          0.5375,
          0.73125
         ]
        },
        "yaxis3": {
         "anchor": "x3",
         "domain": [
          0.26875,
          0.4625
         ]
        },
        "yaxis4": {
         "anchor": "x4",
         "domain": [
          0,
          0.19375
         ]
        }
       }
      }
     },
     "metadata": {},
     "output_type": "display_data"
    }
   ],
   "source": [
    "for i, (carrier, parts_cd) in enumerate(zip(df_table['carrier'], df_table['parts_cd'])):\n",
    "    sdf_repair = df_repair[(df_repair['carrier'] == carrier) & (df_repair['parts_cd'] == parts_cd)]\n",
    "    sdf_stock = df_stock[(df_stock['carrier'] == carrier) & (df_stock['parts_cd'] == parts_cd)]\n",
    "    print(carrier, parts_cd)\n",
    "\n",
    "    fig.append_trace(\n",
    "        go.Bar(\n",
    "            x=sdf_repair['date'],\n",
    "            y=sdf_repair['repair_comsum'],\n",
    "            name='repair_comsum'\n",
    "        ),\n",
    "        row=i + 1,\n",
    "        col=1,\n",
    "    )\n",
    "    fig.append_trace(\n",
    "        go.Scatter(\n",
    "            x=sdf_stock['date'],\n",
    "            y=sdf_stock['stock'],\n",
    "            name='stock'\n",
    "        ),\n",
    "        row=i + 1,\n",
    "        col=1,\n",
    "    )\n",
    "\n",
    "fig.update_layout(\n",
    "    height=200*num_plot,\n",
    "    hovermode=\"x unified\"\n",
    ")\n",
    "\n",
    "fig.show()"
   ]
  }
 ],
 "metadata": {
  "kernelspec": {
   "display_name": "Python 3",
   "language": "python",
   "name": "python3"
  },
  "language_info": {
   "codemirror_mode": {
    "name": "ipython",
    "version": 3
   },
   "file_extension": ".py",
   "mimetype": "text/x-python",
   "name": "python",
   "nbconvert_exporter": "python",
   "pygments_lexer": "ipython3",
   "version": "3.11.4"
  },
  "orig_nbformat": 4
 },
 "nbformat": 4,
 "nbformat_minor": 2
}
